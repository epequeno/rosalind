{
 "cells": [
  {
   "cell_type": "code",
   "execution_count": 10,
   "metadata": {
    "collapsed": true
   },
   "outputs": [],
   "source": [
    "import itertools\n",
    "from decimal import Decimal"
   ]
  },
  {
   "cell_type": "code",
   "execution_count": 11,
   "metadata": {
    "collapsed": false
   },
   "outputs": [],
   "source": [
    "k, m, n = open('rosalind_iprb.txt', 'r').read().strip().split()"
   ]
  },
  {
   "cell_type": "code",
   "execution_count": 12,
   "metadata": {
    "collapsed": false
   },
   "outputs": [
    {
     "data": {
      "text/plain": [
       "{'dom': 30, 'het': 28, 'rec': 29}"
      ]
     },
     "execution_count": 12,
     "metadata": {},
     "output_type": "execute_result"
    }
   ],
   "source": [
    "k = int(k)\n",
    "m = int(m)\n",
    "n = int(n)\n",
    "groups = {'dom': k, 'het': m, 'rec': n}\n",
    "groups"
   ]
  },
  {
   "cell_type": "code",
   "execution_count": 23,
   "metadata": {
    "collapsed": false
   },
   "outputs": [],
   "source": [
    "def punnet(mom, dad):\n",
    "    '''returns the probability that an offspring will have a \n",
    "    dominant allele'''\n",
    "    if mom == 'dom' or dad == 'dom':\n",
    "        return Decimal(1)\n",
    "    elif mom == 'het' and dad == 'het':\n",
    "        return Decimal(0.75)\n",
    "    elif mom == 'rec' and dad == 'rec':\n",
    "        return Decimal(0)\n",
    "    else:\n",
    "        return Decimal(0.5)"
   ]
  },
  {
   "cell_type": "code",
   "execution_count": 14,
   "metadata": {
    "collapsed": false
   },
   "outputs": [
    {
     "data": {
      "text/plain": [
       "87"
      ]
     },
     "execution_count": 14,
     "metadata": {},
     "output_type": "execute_result"
    }
   ],
   "source": [
    "population = sum(groups.values())\n",
    "population"
   ]
  },
  {
   "cell_type": "markdown",
   "metadata": {},
   "source": [
    "This is the representation of the probability tree. The first element is the genotype of the mother and the second is the genotype of the father."
   ]
  },
  {
   "cell_type": "code",
   "execution_count": 21,
   "metadata": {
    "collapsed": false
   },
   "outputs": [
    {
     "data": {
      "text/plain": [
       "[('dom', 'dom'),\n",
       " ('dom', 'het'),\n",
       " ('dom', 'rec'),\n",
       " ('het', 'dom'),\n",
       " ('het', 'het'),\n",
       " ('het', 'rec'),\n",
       " ('rec', 'dom'),\n",
       " ('rec', 'het'),\n",
       " ('rec', 'rec')]"
      ]
     },
     "execution_count": 21,
     "metadata": {},
     "output_type": "execute_result"
    }
   ],
   "source": [
    "moms = dads = ['dom', 'het', 'rec']\n",
    "pairs = list(itertools.product(dads, moms))\n",
    "pairs"
   ]
  },
  {
   "cell_type": "code",
   "execution_count": 19,
   "metadata": {
    "collapsed": false
   },
   "outputs": [
    {
     "name": "stdout",
     "output_type": "stream",
     "text": [
      "1\n",
      "1\n",
      "1\n",
      "1\n",
      "0.75\n",
      "0.5\n",
      "1\n",
      "0.5\n",
      "0\n"
     ]
    }
   ],
   "source": [
    "for p in pairs:\n",
    "    print punnet(p[0], p[1])"
   ]
  },
  {
   "cell_type": "code",
   "execution_count": 20,
   "metadata": {
    "collapsed": false
   },
   "outputs": [],
   "source": [
    "def prob(mom, dad):\n",
    "    # round 1, simple members of a genotype / total population\n",
    "    r1 = Decimal(groups[mom]) / Decimal(population)\n",
    "    # In the case that mom and dad come from the same group we'll need to account for that.\n",
    "    if mom == dad:\n",
    "        r2 = Decimal(groups[dad] - 1) / Decimal(population - 1)\n",
    "    else:\n",
    "        r2 = Decimal(groups[dad]) / Decimal(population - 1)\n",
    "    # some parings produce a dominant allele only some of the time, punnent() adjusts for those cases\n",
    "    return r1 * r2 * punnet(mom, dad)\n"
   ]
  },
  {
   "cell_type": "code",
   "execution_count": 24,
   "metadata": {
    "collapsed": false
   },
   "outputs": [
    {
     "data": {
      "text/plain": [
       "[Decimal('0.1162790697674418604651162791'),\n",
       " Decimal('0.1122694466720128307939053729'),\n",
       " Decimal('0.1162790697674418604651162791'),\n",
       " Decimal('0.1122694466720128307939053729'),\n",
       " Decimal('0.07578187650360866078588612670'),\n",
       " Decimal('0.05426356589147286821705426355'),\n",
       " Decimal('0.1162790697674418604651162791'),\n",
       " Decimal('0.05426356589147286821705426355'),\n",
       " Decimal('0E-28')]"
      ]
     },
     "execution_count": 24,
     "metadata": {},
     "output_type": "execute_result"
    }
   ],
   "source": [
    "answer = [prob(pair[0], pair[1]) for pair in pairs]\n",
    "answer"
   ]
  },
  {
   "cell_type": "code",
   "execution_count": 18,
   "metadata": {
    "collapsed": false
   },
   "outputs": [
    {
     "name": "stdout",
     "output_type": "stream",
     "text": [
      "0.75769\n"
     ]
    }
   ],
   "source": [
    "print '{0:.5f}'.format(sum(answer), 4)"
   ]
  }
 ],
 "metadata": {
  "kernelspec": {
   "display_name": "Python 2",
   "language": "python",
   "name": "python2"
  },
  "language_info": {
   "codemirror_mode": {
    "name": "ipython",
    "version": 2
   },
   "file_extension": ".py",
   "mimetype": "text/x-python",
   "name": "python",
   "nbconvert_exporter": "python",
   "pygments_lexer": "ipython2",
   "version": "2.7.9"
  }
 },
 "nbformat": 4,
 "nbformat_minor": 0
}
