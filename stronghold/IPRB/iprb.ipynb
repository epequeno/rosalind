{
 "cells": [
  {
   "cell_type": "code",
   "execution_count": 25,
   "metadata": {
    "collapsed": true
   },
   "outputs": [],
   "source": [
    "import itertools\n",
    "from decimal import Decimal"
   ]
  },
  {
   "cell_type": "code",
   "execution_count": 26,
   "metadata": {
    "collapsed": false
   },
   "outputs": [],
   "source": [
    "k, m, n = open('rosalind_iprb.txt', 'r').read().strip().split()"
   ]
  },
  {
   "cell_type": "code",
   "execution_count": 27,
   "metadata": {
    "collapsed": false
   },
   "outputs": [
    {
     "data": {
      "text/plain": [
       "{'dom': 30, 'het': 28, 'rec': 29}"
      ]
     },
     "execution_count": 27,
     "metadata": {},
     "output_type": "execute_result"
    }
   ],
   "source": [
    "k = int(k)\n",
    "m = int(m)\n",
    "n = int(n)\n",
    "groups = {'dom': k, 'het': m, 'rec': n}\n",
    "groups"
   ]
  },
  {
   "cell_type": "code",
   "execution_count": 28,
   "metadata": {
    "collapsed": false
   },
   "outputs": [],
   "source": [
    "def punnet(mom, dad):\n",
    "    if mom == 'dom' or dad == 'dom':\n",
    "        return Decimal(1)\n",
    "    elif mom == 'het' and dad == 'het':\n",
    "        return Decimal(0.75)\n",
    "    elif mom == 'het' and dad == 'rec':\n",
    "        return Decimal(0.5)\n",
    "    elif mom == 'rec' and dad == 'rec':\n",
    "        return Decimal(0)\n",
    "    else:\n",
    "        return Decimal(0.5)"
   ]
  },
  {
   "cell_type": "code",
   "execution_count": 29,
   "metadata": {
    "collapsed": false
   },
   "outputs": [
    {
     "data": {
      "text/plain": [
       "87"
      ]
     },
     "execution_count": 29,
     "metadata": {},
     "output_type": "execute_result"
    }
   ],
   "source": [
    "population = sum(groups.values())\n",
    "population"
   ]
  },
  {
   "cell_type": "code",
   "execution_count": 30,
   "metadata": {
    "collapsed": false
   },
   "outputs": [
    {
     "data": {
      "text/plain": [
       "[('dom', 'dom'),\n",
       " ('dom', 'het'),\n",
       " ('dom', 'rec'),\n",
       " ('het', 'dom'),\n",
       " ('het', 'het'),\n",
       " ('het', 'rec'),\n",
       " ('rec', 'dom'),\n",
       " ('rec', 'het'),\n",
       " ('rec', 'rec')]"
      ]
     },
     "execution_count": 30,
     "metadata": {},
     "output_type": "execute_result"
    }
   ],
   "source": [
    "dads = moms = ['dom', 'het', 'rec']\n",
    "pairs = list(itertools.product(dads, moms))\n",
    "pairs"
   ]
  },
  {
   "cell_type": "code",
   "execution_count": 31,
   "metadata": {
    "collapsed": false
   },
   "outputs": [],
   "source": [
    "def prob(mom, dad):\n",
    "    r1 = Decimal(groups[mom]) / Decimal(population)\n",
    "    if mom == dad:\n",
    "        r2 = Decimal(groups[mom] - 1) / Decimal(population - 1)\n",
    "    else:\n",
    "        r2 = Decimal(groups[mom]) / Decimal(population - 1)\n",
    "    return r1 * r2 * punnet(mom, dad)\n"
   ]
  },
  {
   "cell_type": "code",
   "execution_count": 32,
   "metadata": {
    "collapsed": false
   },
   "outputs": [],
   "source": [
    "answer = [prob(pair[0], pair[1]) for pair in pairs]"
   ]
  },
  {
   "cell_type": "code",
   "execution_count": 33,
   "metadata": {
    "collapsed": false
   },
   "outputs": [
    {
     "name": "stdout",
     "output_type": "stream",
     "text": [
      "0.75842\n"
     ]
    }
   ],
   "source": [
    "print '{0:.5f}'.format(sum(answer), 4)"
   ]
  },
  {
   "cell_type": "code",
   "execution_count": null,
   "metadata": {
    "collapsed": true
   },
   "outputs": [],
   "source": []
  }
 ],
 "metadata": {
  "kernelspec": {
   "display_name": "Python 2",
   "language": "python",
   "name": "python2"
  },
  "language_info": {
   "codemirror_mode": {
    "name": "ipython",
    "version": 2
   },
   "file_extension": ".py",
   "mimetype": "text/x-python",
   "name": "python",
   "nbconvert_exporter": "python",
   "pygments_lexer": "ipython2",
   "version": "2.7.10"
  }
 },
 "nbformat": 4,
 "nbformat_minor": 0
}
