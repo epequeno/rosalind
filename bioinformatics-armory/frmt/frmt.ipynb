{
 "cells": [
  {
   "cell_type": "code",
   "execution_count": null,
   "metadata": {
    "collapsed": false
   },
   "outputs": [],
   "source": [
    "from Bio import Entrez\n",
    "Entrez.email = \"steven@pequeno.in\""
   ]
  },
  {
   "cell_type": "code",
   "execution_count": 32,
   "metadata": {
    "collapsed": false
   },
   "outputs": [
    {
     "data": {
      "text/plain": [
       "'JX462669 JQ290344 JQ011270 JX475048 JX475045 NM_001265803 JX205496 JX469983 JF927163 NM_002037'"
      ]
     },
     "execution_count": 32,
     "metadata": {},
     "output_type": "execute_result"
    }
   ],
   "source": [
    "fd = open('rosalind_frmt.txt', 'r').read().strip()\n",
    "fd"
   ]
  },
  {
   "cell_type": "code",
   "execution_count": 33,
   "metadata": {
    "collapsed": true
   },
   "outputs": [],
   "source": [
    "handle = Entrez.efetch(db=\"nucleotide\", id=[fd], rettype=\"fasta\")\n",
    "records = handle.read()"
   ]
  },
  {
   "cell_type": "code",
   "execution_count": 34,
   "metadata": {
    "collapsed": false
   },
   "outputs": [],
   "source": [
    "candidates = [(len(i.strip()), i.strip()) for i in records.split('>')[1:]]\n",
    "answer =  min(candidates)[1]"
   ]
  },
  {
   "cell_type": "code",
   "execution_count": 35,
   "metadata": {
    "collapsed": false
   },
   "outputs": [],
   "source": [
    "answer = '>' + answer"
   ]
  },
  {
   "cell_type": "code",
   "execution_count": 36,
   "metadata": {
    "collapsed": false
   },
   "outputs": [
    {
     "name": "stdout",
     "output_type": "stream",
     "text": [
      ">gi|405132182|gb|JX462669.1| Belgica antarctica ribosomal protein 49 (rp49) mRNA, complete cds\n",
      "ATGGCAGTTCGACCAGCATTCAAACCCAAAATCATCAAAAAGAGAACGAAGAAGTTCATCCGCCATCAGT\n",
      "CGGACCGATATGACAAAGTCAAGGAAGCTTGGCGCAAGCCCAAGGGTATTGACAACAGAGTCAGACGTCG\n",
      "CTTTAAGGGACAGTACCTGATGCCAAACATCGGCTACGGTTCCAACGCCAAGACCCGCCACATGCTCCCC\n",
      "AACGGCTTCAAGAAGTTCACCGTCAACAACGTCCGCGAGTTGGAGGTCTTGATGATGCAAAACCGCGTTT\n",
      "ACTGCGCCGAGGTCGCTCACGCCGTCAGCGCCAAGAAGCGTAAGCTGATCTGCGAACGTGCTAAGCAGCT\n",
      "GGGAATCCGTGTGACCAACTTCCACGCAAGAATGCGATCACAGGAAAATGAGTAA\n"
     ]
    }
   ],
   "source": [
    "for line in answer.splitlines():\n",
    "    print line"
   ]
  },
  {
   "cell_type": "code",
   "execution_count": null,
   "metadata": {
    "collapsed": true
   },
   "outputs": [],
   "source": []
  }
 ],
 "metadata": {
  "kernelspec": {
   "display_name": "Python 2",
   "language": "python",
   "name": "python2"
  },
  "language_info": {
   "codemirror_mode": {
    "name": "ipython",
    "version": 2
   },
   "file_extension": ".py",
   "mimetype": "text/x-python",
   "name": "python",
   "nbconvert_exporter": "python",
   "pygments_lexer": "ipython2",
   "version": "2.7.10"
  }
 },
 "nbformat": 4,
 "nbformat_minor": 0
}
